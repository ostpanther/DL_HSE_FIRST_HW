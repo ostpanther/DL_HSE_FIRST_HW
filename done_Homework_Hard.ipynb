{
  "cells": [
    {
      "cell_type": "code",
      "execution_count": 755,
      "metadata": {
        "id": "Pdy5IBUnlXNG"
      },
      "outputs": [],
      "source": [
        "import numpy as np\n",
        "\n",
        "from sklearn.metrics import classification_report\n",
        "\n",
        "import torch\n",
        "from torch.utils.data import DataLoader\n",
        "from torchvision.datasets import MNIST\n",
        "from torchvision import transforms\n",
        "\n",
        "import matplotlib.pyplot as plt\n",
        "\n",
        "from tqdm import tqdm\n",
        "\n",
        "from sklearn.metrics import accuracy_score\n",
        "\n",
        "import time"
      ]
    },
    {
      "cell_type": "code",
      "execution_count": 756,
      "metadata": {},
      "outputs": [],
      "source": [
        "# !pip3 install torch torchvision torchaudio\n",
        "\n",
        "# !pip install -r /Users/gleb/Desktop/DL_HSE/DL_HSE_FIRST_HW/requirements.txt"
      ]
    },
    {
      "cell_type": "markdown",
      "metadata": {
        "id": "UeC5sBIulXNG"
      },
      "source": [
        "# Домашка №1\n",
        "# Усложненная\n",
        "### Эта домашка нужна для лучшего понимания, но она будет сложнее из-за использования классов и, возможно, пока непривычной форме с классами.\n",
        "Абстракции в этой домашке будут очень полезны для понимания того, что происходит в торче. Эта домашка прокачает вас гораздо сильнее, но и выполнить ее будет труднее. Вам нужно будет описать несколько слоев: `Linear`, `ReLU`, `BCELoss`.  Реализация `Sigmoid` уже есть в `our_library.layers`. Реализовав слои выше вы сможете сделать n-слойную нейронную сеть с любым количеством слоев. Это получается за счет того, что вы описали всю необходимую логику:\n",
        "- Как нужно обработать входные данные и передать их дальше;\n",
        "- Принять градиент с последующего слоя, сделать `backward` для текущего слоя и передать градиент предыдущему слою;\n",
        "- Как обновить веса, если в слоев есть обучаемые веса.\n",
        "\n",
        "Присылайте свои недоделанные сложные домашки, пусть они не пойдут совсем в стол. Я или ассистенты посмотрят, мы обсудим и доделаем.  \n",
        "Поверьте, эта домашка стоит того, чтобы ее сделать!"
      ]
    },
    {
      "cell_type": "markdown",
      "metadata": {
        "id": "ZDl1Yq6XlXNH"
      },
      "source": [
        "# Датасет\n",
        "Мы его просто загрузим и здесь пока будет какая-то торчовая магия, которую мы разберем на следующем занятии"
      ]
    },
    {
      "cell_type": "markdown",
      "metadata": {
        "id": "WTluTjFnlXNI"
      },
      "source": [
        "### Некоторые магические трансформации, о которых пока не стоит заморачиваться\n",
        "1. Перевод картинки в тензор\n",
        "1. Нормализация картинки"
      ]
    },
    {
      "cell_type": "code",
      "execution_count": 757,
      "metadata": {
        "id": "Fjg_mG3NlXNI"
      },
      "outputs": [],
      "source": [
        "transform = transforms.Compose([\n",
        "    transforms.ToTensor(),\n",
        "    transforms.Normalize((0.1307,), (0.3081,))\n",
        "])"
      ]
    },
    {
      "cell_type": "markdown",
      "metadata": {
        "id": "mPmYiKhWlXNI"
      },
      "source": [
        "## Загружаем датасет\n",
        "Конкретно эта часть кода понадобится нам один раз за курс и будет только в этой домашке"
      ]
    },
    {
      "cell_type": "code",
      "execution_count": 758,
      "metadata": {
        "id": "6K7ZQvd_lXNI"
      },
      "outputs": [],
      "source": [
        "train_dataset = MNIST('.', train=True, download=True, transform=transform)\n",
        "test_dataset = MNIST('.', train=False, transform=transform)"
      ]
    },
    {
      "cell_type": "markdown",
      "metadata": {
        "id": "nAOhxI0JlXNI"
      },
      "source": [
        "## Переводим его в два класса\n",
        "Это нужно для упрощения задачи до бинарной классификации. В этой домашке мы будем отличать две цифры: 1 и 7."
      ]
    },
    {
      "cell_type": "code",
      "execution_count": 759,
      "metadata": {
        "id": "Xj-AoKwmlXNJ"
      },
      "outputs": [],
      "source": [
        "train_dataset.data = train_dataset.data[(train_dataset.targets == 3) | (train_dataset.targets == 7)]\n",
        "train_dataset.targets = train_dataset.targets[(train_dataset.targets == 3) | (train_dataset.targets == 7)]\n",
        "\n",
        "test_dataset.data = test_dataset.data[(test_dataset.targets == 3) | (test_dataset.targets == 7)]\n",
        "test_dataset.targets = test_dataset.targets[(test_dataset.targets == 3) | (test_dataset.targets == 7)]\n",
        "\n",
        "train_dataset.targets = (train_dataset.targets == 7).long()\n",
        "test_dataset.targets = (test_dataset.targets == 7).long()"
      ]
    },
    {
      "cell_type": "markdown",
      "metadata": {
        "id": "0yJylcd3lXNJ"
      },
      "source": [
        "## Оборачиваем в итератор данных\n",
        "Далее в курсе мы поговорим о том, что это такое более подробно, а дальше в этой тетрадке будет несколько полезных деталей.  \n",
        "Пока что будет достаточно понимать, что мы обернули наши данные в некоторую абстракцию, итерация по которой дает нам батчи данных из нашего датасета.  "
      ]
    },
    {
      "cell_type": "code",
      "execution_count": 760,
      "metadata": {
        "id": "reZcKrLzlXNJ"
      },
      "outputs": [],
      "source": [
        "train_loader = DataLoader(train_dataset, batch_size=128, shuffle=True)\n",
        "test_loader = DataLoader(test_dataset, batch_size=128, shuffle=False)\n"
      ]
    },
    {
      "cell_type": "markdown",
      "metadata": {
        "id": "cHJUP6FmlXNJ"
      },
      "source": [
        "## Порисуем данные\n",
        "\n",
        "- классу 0 соответствует цифра 3\n",
        "- классу 1 соответствует цифра 7  \n",
        "\n",
        "Выбрал эти цифры, потому что на них хуже всего метрики"
      ]
    },
    {
      "cell_type": "code",
      "execution_count": 761,
      "metadata": {
        "colab": {
          "base_uri": "https://localhost:8080/",
          "height": 585
        },
        "id": "3b9IO0iqlXNJ",
        "outputId": "8dab1d6d-2cd0-44e8-b50e-3902ce2a5b72"
      },
      "outputs": [
        {
          "name": "stderr",
          "output_type": "stream",
          "text": [
            "Epoch 1:   0%|          | 0/97 [06:16<?, ?it/s]\n",
            "Epoch 1:   0%|          | 0/97 [02:07<?, ?it/s]\n"
          ]
        },
        {
          "data": {
            "image/png": "[encoded data removed]",
            "text/plain": [
              "<Figure size 600x700 with 25 Axes>"
            ]
          },
          "metadata": {},
          "output_type": "display_data"
        }
      ],
      "source": [
        "X, y = next(iter(train_loader))\n",
        "X = X.numpy()\n",
        "y = y.numpy()\n",
        "\n",
        "plt.figure(figsize=(6, 7))\n",
        "for i in range(25):\n",
        "    plt.subplot(5, 5, i+1)\n",
        "    plt.imshow(X[i].reshape(28, 28), cmap=plt.cm.Greys_r)\n",
        "    plt.title(y[i])\n",
        "    plt.axis('off')"
      ]
    },
    {
      "cell_type": "markdown",
      "metadata": {
        "id": "OissOSb-lXNJ"
      },
      "source": [
        "# Итерация по датасету\n",
        "- x - батч с данными\n",
        "- y - батч с таргетами к этим данным"
      ]
    },
    {
      "cell_type": "code",
      "execution_count": 762,
      "metadata": {
        "id": "OoCSEelrlXNJ"
      },
      "outputs": [],
      "source": [
        "for x, y in train_loader:\n",
        "    break"
      ]
    },
    {
      "cell_type": "markdown",
      "metadata": {
        "id": "IFlYGgn0lXNJ"
      },
      "source": [
        "### train_loader это итератор, при проходе по которому будут выдаваться батчи данных"
      ]
    },
    {
      "cell_type": "markdown",
      "metadata": {
        "id": "DqoOx1lylXNJ"
      },
      "source": [
        "## Размерность x\n",
        "- 128 - размер батча\n",
        "- 1 - количество каналов, у нас чернобелые картинки, поэтому канал 1\n",
        "- 28 - количество пикселей в длину\n",
        "- 28 - количество пикселей в ширину"
      ]
    },
    {
      "cell_type": "code",
      "execution_count": 763,
      "metadata": {
        "colab": {
          "base_uri": "https://localhost:8080/"
        },
        "id": "SFyrISEulXNJ",
        "outputId": "34b28ad7-038d-4165-a25b-9f05d1712d6f"
      },
      "outputs": [
        {
          "data": {
            "text/plain": [
              "torch.Size([128, 1, 28, 28])"
            ]
          },
          "execution_count": 763,
          "metadata": {},
          "output_type": "execute_result"
        }
      ],
      "source": [
        "x.shape"
      ]
    },
    {
      "cell_type": "code",
      "execution_count": 764,
      "metadata": {
        "colab": {
          "base_uri": "https://localhost:8080/"
        },
        "id": "xdmi_ic-lXNK",
        "outputId": "5c8bbfe4-acd5-4342-d947-9d6e828e48c6"
      },
      "outputs": [
        {
          "data": {
            "text/plain": [
              "tensor([[[[-0.4242, -0.4242, -0.4242,  ..., -0.4242, -0.4242, -0.4242],\n",
              "          [-0.4242, -0.4242, -0.4242,  ..., -0.4242, -0.4242, -0.4242],\n",
              "          [-0.4242, -0.4242, -0.4242,  ..., -0.4242, -0.4242, -0.4242],\n",
              "          ...,\n",
              "          [-0.4242, -0.4242, -0.4242,  ..., -0.4242, -0.4242, -0.4242],\n",
              "          [-0.4242, -0.4242, -0.4242,  ..., -0.4242, -0.4242, -0.4242],\n",
              "          [-0.4242, -0.4242, -0.4242,  ..., -0.4242, -0.4242, -0.4242]]],\n",
              "\n",
              "\n",
              "        [[[-0.4242, -0.4242, -0.4242,  ..., -0.4242, -0.4242, -0.4242],\n",
              "          [-0.4242, -0.4242, -0.4242,  ..., -0.4242, -0.4242, -0.4242],\n",
              "          [-0.4242, -0.4242, -0.4242,  ..., -0.4242, -0.4242, -0.4242],\n",
              "          ...,\n",
              "          [-0.4242, -0.4242, -0.4242,  ..., -0.4242, -0.4242, -0.4242],\n",
              "          [-0.4242, -0.4242, -0.4242,  ..., -0.4242, -0.4242, -0.4242],\n",
              "          [-0.4242, -0.4242, -0.4242,  ..., -0.4242, -0.4242, -0.4242]]],\n",
              "\n",
              "\n",
              "        [[[-0.4242, -0.4242, -0.4242,  ..., -0.4242, -0.4242, -0.4242],\n",
              "          [-0.4242, -0.4242, -0.4242,  ..., -0.4242, -0.4242, -0.4242],\n",
              "          [-0.4242, -0.4242, -0.4242,  ..., -0.4242, -0.4242, -0.4242],\n",
              "          ...,\n",
              "          [-0.4242, -0.4242, -0.4242,  ..., -0.4242, -0.4242, -0.4242],\n",
              "          [-0.4242, -0.4242, -0.4242,  ..., -0.4242, -0.4242, -0.4242],\n",
              "          [-0.4242, -0.4242, -0.4242,  ..., -0.4242, -0.4242, -0.4242]]],\n",
              "\n",
              "\n",
              "        ...,\n",
              "\n",
              "\n",
              "        [[[-0.4242, -0.4242, -0.4242,  ..., -0.4242, -0.4242, -0.4242],\n",
              "          [-0.4242, -0.4242, -0.4242,  ..., -0.4242, -0.4242, -0.4242],\n",
              "          [-0.4242, -0.4242, -0.4242,  ..., -0.4242, -0.4242, -0.4242],\n",
              "          ...,\n",
              "          [-0.4242, -0.4242, -0.4242,  ..., -0.4242, -0.4242, -0.4242],\n",
              "          [-0.4242, -0.4242, -0.4242,  ..., -0.4242, -0.4242, -0.4242],\n",
              "          [-0.4242, -0.4242, -0.4242,  ..., -0.4242, -0.4242, -0.4242]]],\n",
              "\n",
              "\n",
              "        [[[-0.4242, -0.4242, -0.4242,  ..., -0.4242, -0.4242, -0.4242],\n",
              "          [-0.4242, -0.4242, -0.4242,  ..., -0.4242, -0.4242, -0.4242],\n",
              "          [-0.4242, -0.4242, -0.4242,  ..., -0.4242, -0.4242, -0.4242],\n",
              "          ...,\n",
              "          [-0.4242, -0.4242, -0.4242,  ..., -0.4242, -0.4242, -0.4242],\n",
              "          [-0.4242, -0.4242, -0.4242,  ..., -0.4242, -0.4242, -0.4242],\n",
              "          [-0.4242, -0.4242, -0.4242,  ..., -0.4242, -0.4242, -0.4242]]],\n",
              "\n",
              "\n",
              "        [[[-0.4242, -0.4242, -0.4242,  ..., -0.4242, -0.4242, -0.4242],\n",
              "          [-0.4242, -0.4242, -0.4242,  ..., -0.4242, -0.4242, -0.4242],\n",
              "          [-0.4242, -0.4242, -0.4242,  ..., -0.4242, -0.4242, -0.4242],\n",
              "          ...,\n",
              "          [-0.4242, -0.4242, -0.4242,  ..., -0.4242, -0.4242, -0.4242],\n",
              "          [-0.4242, -0.4242, -0.4242,  ..., -0.4242, -0.4242, -0.4242],\n",
              "          [-0.4242, -0.4242, -0.4242,  ..., -0.4242, -0.4242, -0.4242]]]])"
            ]
          },
          "execution_count": 764,
          "metadata": {},
          "output_type": "execute_result"
        }
      ],
      "source": [
        "x"
      ]
    },
    {
      "cell_type": "markdown",
      "metadata": {
        "id": "vU96aD1vlXNK"
      },
      "source": [
        "## Просто выпрямим нашу матрицу в один вектор\n",
        "### То есть каждая фича в векторе это значение пикселя\n",
        "### Для нашей игрушечной задачи этого будет достаточно"
      ]
    },
    {
      "cell_type": "code",
      "execution_count": 765,
      "metadata": {
        "colab": {
          "base_uri": "https://localhost:8080/"
        },
        "id": "sMAf6gSllXNK",
        "outputId": "e58441af-1c73-4e86-a0ec-ef564b386045"
      },
      "outputs": [
        {
          "data": {
            "text/plain": [
              "(128, 784)"
            ]
          },
          "execution_count": 765,
          "metadata": {},
          "output_type": "execute_result"
        }
      ],
      "source": [
        "x.view(x.shape[0], -1).numpy().shape"
      ]
    },
    {
      "cell_type": "markdown",
      "metadata": {
        "id": "GkhB5fG2lXNK"
      },
      "source": [
        "### x.numpy()\n",
        "Это перевод торчового тензора (некоторая абстракция, о которой мы будем говорить позже на курсе) в numpy массив"
      ]
    },
    {
      "cell_type": "code",
      "execution_count": 766,
      "metadata": {
        "id": "GDrnNPURlXNK"
      },
      "outputs": [],
      "source": [
        "for x, y in train_loader:\n",
        "    x = x.view(x.shape[0], -1).numpy()\n",
        "    y = y.numpy()\n",
        "    break"
      ]
    },
    {
      "cell_type": "code",
      "execution_count": 767,
      "metadata": {
        "colab": {
          "base_uri": "https://localhost:8080/"
        },
        "id": "LlXtgpmRlXNK",
        "outputId": "2434a063-cc82-41b9-d28e-fe6da5428358"
      },
      "outputs": [
        {
          "data": {
            "text/plain": [
              "array([[-0.42421296, -0.42421296, -0.42421296, ..., -0.42421296,\n",
              "        -0.42421296, -0.42421296],\n",
              "       [-0.42421296, -0.42421296, -0.42421296, ..., -0.42421296,\n",
              "        -0.42421296, -0.42421296],\n",
              "       [-0.42421296, -0.42421296, -0.42421296, ..., -0.42421296,\n",
              "        -0.42421296, -0.42421296],\n",
              "       ...,\n",
              "       [-0.42421296, -0.42421296, -0.42421296, ..., -0.42421296,\n",
              "        -0.42421296, -0.42421296],\n",
              "       [-0.42421296, -0.42421296, -0.42421296, ..., -0.42421296,\n",
              "        -0.42421296, -0.42421296],\n",
              "       [-0.42421296, -0.42421296, -0.42421296, ..., -0.42421296,\n",
              "        -0.42421296, -0.42421296]], dtype=float32)"
            ]
          },
          "execution_count": 767,
          "metadata": {},
          "output_type": "execute_result"
        }
      ],
      "source": [
        "x"
      ]
    },
    {
      "cell_type": "markdown",
      "metadata": {
        "id": "ljaUFrzQlXNK"
      },
      "source": [
        "### Размерность\n",
        "- количество примеров в батче\n",
        "- количество фичей"
      ]
    },
    {
      "cell_type": "code",
      "execution_count": 768,
      "metadata": {
        "colab": {
          "base_uri": "https://localhost:8080/"
        },
        "id": "4-W9xsYjlXNK",
        "outputId": "44fd70c2-1077-4285-d9ad-b6849a03eed9"
      },
      "outputs": [
        {
          "data": {
            "text/plain": [
              "(128, 784)"
            ]
          },
          "execution_count": 768,
          "metadata": {},
          "output_type": "execute_result"
        }
      ],
      "source": [
        "x.shape"
      ]
    },
    {
      "cell_type": "markdown",
      "metadata": {
        "id": "LT_kBvGxlXNK"
      },
      "source": [
        "# Таргеты\n",
        "- классу 0 соответствует цифра 3\n",
        "- классу 1 соответствует цифра 7"
      ]
    },
    {
      "cell_type": "code",
      "execution_count": 769,
      "metadata": {
        "colab": {
          "base_uri": "https://localhost:8080/"
        },
        "id": "L9ba6yNalXNK",
        "outputId": "b51a236d-64b9-431a-b75f-0ae381f9c775"
      },
      "outputs": [
        {
          "data": {
            "text/plain": [
              "array([0, 0, 1, 1, 0, 1, 0, 1, 0, 1, 0, 0, 1, 1, 1, 1, 0, 1, 1, 0, 1, 1,\n",
              "       1, 0, 0, 1, 1, 1, 0, 0, 0, 0, 1, 1, 1, 1, 1, 0, 1, 1, 1, 1, 0, 1,\n",
              "       0, 1, 0, 0, 1, 1, 1, 0, 1, 0, 1, 0, 0, 0, 0, 0, 1, 1, 0, 0, 1, 0,\n",
              "       0, 1, 1, 0, 0, 0, 0, 0, 1, 1, 0, 0, 0, 0, 1, 0, 0, 1, 0, 1, 1, 1,\n",
              "       1, 0, 1, 1, 0, 1, 1, 0, 0, 1, 0, 0, 1, 1, 0, 1, 1, 1, 0, 0, 1, 1,\n",
              "       1, 1, 0, 0, 0, 1, 0, 0, 0, 0, 0, 0, 1, 0, 1, 1, 0, 0])"
            ]
          },
          "execution_count": 769,
          "metadata": {},
          "output_type": "execute_result"
        }
      ],
      "source": [
        "y"
      ]
    },
    {
      "cell_type": "markdown",
      "metadata": {
        "id": "_4O9kxyKlXNL"
      },
      "source": [
        "# Итерация по эпохам"
      ]
    },
    {
      "cell_type": "code",
      "execution_count": 770,
      "metadata": {
        "colab": {
          "base_uri": "https://localhost:8080/"
        },
        "id": "rDdmDGAvlXNL",
        "outputId": "fc130caa-e603-4ca6-bd77-85607d74c097"
      },
      "outputs": [
        {
          "name": "stdout",
          "output_type": "stream",
          "text": [
            "Эпоха - 1, прошли - 100.00 % датасета\n",
            "Эпоха - 2, прошли - 100.00 % датасета\n",
            "Эпоха - 3, прошли - 100.00 % датасета\n"
          ]
        }
      ],
      "source": [
        "# количество эпох - полных проходов по датасету\n",
        "epochs = 3\n",
        "\n",
        "for n_epoch in range(epochs):\n",
        "\n",
        "    dataset_passed_samples = 0\n",
        "\n",
        "    for x, y in train_loader:\n",
        "\n",
        "        # вот здесь мы могли бы как-то манипулировать с данными\n",
        "        # например, учить, но пока этого делать не будет\n",
        "        # только демонстрация\n",
        "\n",
        "        time.sleep(0.01)\n",
        "\n",
        "        dataset_passed_samples += x.shape[0]\n",
        "\n",
        "        dataset_passed_percent = dataset_passed_samples * 100 / train_loader.dataset.data.shape[0]\n",
        "\n",
        "        print(f'Эпоха - {n_epoch + 1}, прошли - {dataset_passed_percent:.2f} % датасета', end='\\r')\n",
        "\n",
        "    print('\\r')"
      ]
    },
    {
      "cell_type": "markdown",
      "metadata": {
        "id": "AxhPMoKFlXNL"
      },
      "source": [
        "# Небольшие пояснения по numpy"
      ]
    },
    {
      "cell_type": "code",
      "execution_count": 771,
      "metadata": {
        "colab": {
          "base_uri": "https://localhost:8080/"
        },
        "id": "2BvtSS7RlXNL",
        "outputId": "4915e04b-c93b-497f-8aab-6dffe9378929"
      },
      "outputs": [
        {
          "data": {
            "text/plain": [
              "array([[1.84588201e-01, 6.22681522e-01, 5.85734540e-01, ...,\n",
              "        9.38739675e-01, 9.83498550e-01, 1.63517872e-01],\n",
              "       [6.38849800e-01, 4.42769973e-01, 7.03483682e-01, ...,\n",
              "        3.19741118e-01, 1.37195242e-01, 6.75841668e-01],\n",
              "       [3.28635963e-01, 1.70920283e-01, 1.34587535e-01, ...,\n",
              "        8.33770933e-02, 2.49879650e-01, 4.96585243e-01],\n",
              "       ...,\n",
              "       [4.53245705e-01, 8.20705872e-01, 6.74934679e-01, ...,\n",
              "        7.43746427e-01, 8.08151702e-01, 8.23292288e-04],\n",
              "       [8.46142390e-01, 3.60886072e-01, 6.28658285e-01, ...,\n",
              "        7.02405437e-01, 5.48767688e-01, 7.83334775e-01],\n",
              "       [3.70676950e-01, 5.71050635e-02, 9.41578278e-01, ...,\n",
              "        9.25155158e-01, 8.03470420e-01, 8.77002566e-01]])"
            ]
          },
          "execution_count": 771,
          "metadata": {},
          "output_type": "execute_result"
        }
      ],
      "source": [
        "# таким образом мы создаем матрицу 64 на 512 с рандомными значениями\n",
        "x = np.random.rand(64, 512)\n",
        "x"
      ]
    },
    {
      "cell_type": "code",
      "execution_count": 772,
      "metadata": {
        "colab": {
          "base_uri": "https://localhost:8080/"
        },
        "id": "JmiALcELlXNL",
        "outputId": "fca76660-d9ed-4e0a-d090-dfb6fe28edac"
      },
      "outputs": [
        {
          "data": {
            "text/plain": [
              "array([[-1.65555507, -0.08598781, -0.19180364, ...,  0.8180151 ,\n",
              "         0.95063028, -1.78409489],\n",
              "       [-0.03995684, -0.61865964,  0.14317869, ..., -1.03800923,\n",
              "        -1.96752771,  0.06496551],\n",
              "       [-1.00480304, -1.73734427, -1.98742667, ..., -2.47742993,\n",
              "        -1.32433604, -0.45340322],\n",
              "       ...,\n",
              "       [-0.58588924,  0.47596764,  0.06239746, ...,  0.25710362,\n",
              "         0.44010369, -7.10219859],\n",
              "       [ 0.54888932, -0.8889542 , -0.0689562 , ...,  0.1401289 ,\n",
              "        -0.29893411,  0.36941825],\n",
              "       [-0.85502295, -2.8596015 ,  0.82637186, ...,  0.77811825,\n",
              "         0.42674981,  0.63788814]])"
            ]
          },
          "execution_count": 772,
          "metadata": {},
          "output_type": "execute_result"
        }
      ],
      "source": [
        "# большинство функций применяются к каждому элементу массива\n",
        "# здесь мы каждый элемент массива возвели в квадрат и прибавили к получившемуся значению логарифм элемента матрицы\n",
        "x ** 2 + np.log(x)"
      ]
    },
    {
      "cell_type": "code",
      "execution_count": 773,
      "metadata": {
        "id": "t4jcLT2nlXNL"
      },
      "outputs": [],
      "source": [
        "y = np.random.rand(512, 1024)\n",
        "# скалярное произведение\n",
        "res = np.dot(x, y)"
      ]
    },
    {
      "cell_type": "code",
      "execution_count": 774,
      "metadata": {
        "colab": {
          "base_uri": "https://localhost:8080/"
        },
        "id": "PMXyTsqYlXNL",
        "outputId": "114326a4-3240-4606-fbe9-77a843003144"
      },
      "outputs": [
        {
          "data": {
            "text/plain": [
              "array([[132.34687698, 134.54598042, 128.12103574, ..., 131.78320754,\n",
              "        129.08762962, 131.47622349],\n",
              "       [126.90104796, 131.69259545, 126.40064112, ..., 130.20136786,\n",
              "        129.91432882, 128.2811493 ],\n",
              "       [128.47046389, 131.11033312, 125.53138892, ..., 132.33559042,\n",
              "        131.31072974, 128.39591729],\n",
              "       ...,\n",
              "       [125.1521699 , 125.02093906, 117.49044197, ..., 122.15172223,\n",
              "        123.76443216, 122.76846357],\n",
              "       [135.51249591, 135.33898839, 130.39412621, ..., 133.93051145,\n",
              "        135.59209789, 131.8711265 ],\n",
              "       [132.0282197 , 133.75153917, 129.1375893 , ..., 134.22990942,\n",
              "        134.8081803 , 131.62602786]])"
            ]
          },
          "execution_count": 774,
          "metadata": {},
          "output_type": "execute_result"
        }
      ],
      "source": [
        "res"
      ]
    },
    {
      "cell_type": "code",
      "execution_count": 775,
      "metadata": {
        "colab": {
          "base_uri": "https://localhost:8080/"
        },
        "id": "UrNp5UmDlXNL",
        "outputId": "e76aca8c-ce2b-46e0-bb35-33013dd57a60"
      },
      "outputs": [
        {
          "data": {
            "text/plain": [
              "True"
            ]
          },
          "execution_count": 775,
          "metadata": {},
          "output_type": "execute_result"
        }
      ],
      "source": [
        "res.shape == (x.shape[0], y.shape[1])"
      ]
    },
    {
      "cell_type": "markdown",
      "metadata": {
        "id": "z5I0VWonlXNM"
      },
      "source": [
        "# Импортируем нашу библиотеку\n",
        "В ней реализованы некоторые полезные методы, в модуле `layers` есть реализация сигмоиды. Остальное вам смотреть необязательно, это некоторые дополнения, упрощающие вам жизнь."
      ]
    },
    {
      "cell_type": "code",
      "execution_count": 776,
      "metadata": {
        "id": "aJL-3eoVlXNM"
      },
      "outputs": [],
      "source": [
        "from our_library import layers, wrapper, tools"
      ]
    },
    {
      "cell_type": "markdown",
      "metadata": {
        "id": "lG5TCZZElXNM"
      },
      "source": [
        "## Реализуйте слои:\n",
        "- Linear - линейная трансформация (не забудьте, что у нас в этом слое как раз есть обучаемые параметры)\n",
        "- ReLU\n",
        "- BCELoss - Binary Cross Entropy\n",
        "\n",
        "\n",
        "## Вы можете реализовать как здесь, так и в файла layers\n",
        "\n",
        "- TIP: np.expand_dims(y, 1) для BCE, так как BCE на вход принимает просто вектор размерностью (батч сайз, 1)\n",
        "\n",
        "## Также внутри layers есть код для Negative Log-Likelihood (сразу с софтмаксом) для примера"
      ]
    },
    {
      "cell_type": "markdown",
      "metadata": {
        "id": "xY38y7eelXNM"
      },
      "source": [
        "# Пример c сигмоидой\n",
        "В `our_library.layers` также это есть"
      ]
    },
    {
      "cell_type": "code",
      "execution_count": 777,
      "metadata": {
        "id": "hOEj_9SLlXNM"
      },
      "outputs": [],
      "source": [
        "class Sigmoid:\n",
        "\n",
        "    def __init__(self):\n",
        "\n",
        "        self._sigmoid_result = None\n",
        "\n",
        "    def forward(self, x):\n",
        "\n",
        "        self._sigmoid_result = 1 / (1 + np.exp(-x))\n",
        "\n",
        "        return self._sigmoid_result\n",
        "\n",
        "    def backward(self, grad):\n",
        "        \"\"\"\n",
        "        :grad: градиент от предыдущего слоя\n",
        "        :return: градиент для следующего слоя\n",
        "        \"\"\"\n",
        "\n",
        "        new_grad = self._sigmoid_result * (1 - self._sigmoid_result) * grad\n",
        "\n",
        "        return new_grad\n",
        "\n",
        "    def step(self, learning_step):\n",
        "\n",
        "        pass"
      ]
    },
    {
      "cell_type": "markdown",
      "metadata": {
        "id": "ED0A293vlXNM"
      },
      "source": [
        "# Тестирование"
      ]
    },
    {
      "cell_type": "code",
      "execution_count": 778,
      "metadata": {
        "id": "A4LVGApclXNM"
      },
      "outputs": [],
      "source": [
        "x = np.array([[0.91551091, 0.15073826, 0.77137556, 0.59352491],\n",
        "              [0.81126142, 0.1194849 , 0.29651178, 0.19066982]])\n",
        "\n",
        "correct_forward_result = np.array([[0.71412654, 0.53761337, 0.68381838, 0.64417351],\n",
        "                                   [0.69237824, 0.52983574, 0.57358957, 0.54752357]])\n",
        "\n",
        "correct_backward_result = np.array([[0.20414982, 0.24858523, 0.2162108 , 0.229214  ],\n",
        "                                    [0.21299061, 0.24910983, 0.24458457, 0.24774151]])"
      ]
    },
    {
      "cell_type": "code",
      "execution_count": 779,
      "metadata": {
        "id": "6UF5XqTllXNM"
      },
      "outputs": [],
      "source": [
        "sigmoid_layer = Sigmoid()\n",
        "forward_result = sigmoid_layer.forward(x)\n",
        "backward_result = sigmoid_layer.backward(np.ones_like(x))"
      ]
    },
    {
      "cell_type": "code",
      "execution_count": 780,
      "metadata": {
        "id": "wVCfM0kHlXNM"
      },
      "outputs": [],
      "source": [
        "# значения должны быть близкими\n",
        "assert np.allclose(correct_forward_result, forward_result)"
      ]
    },
    {
      "cell_type": "code",
      "execution_count": 781,
      "metadata": {
        "id": "zfPEkB2plXNN"
      },
      "outputs": [],
      "source": [
        "# значения должны быть близкими\n",
        "assert np.allclose(correct_backward_result, backward_result)"
      ]
    },
    {
      "cell_type": "markdown",
      "metadata": {
        "id": "E4qz1PVelXNN"
      },
      "source": [
        "# Линейный слой"
      ]
    },
    {
      "cell_type": "code",
      "execution_count": 782,
      "metadata": {
        "id": "IiqpDq2alXNN"
      },
      "outputs": [],
      "source": [
        "class Linear:\n",
        "    def __init__(self, in_features, out_features):\n",
        "        # инициализация весов и смещения\n",
        "        self.weight = np.random.randn(in_features, out_features) * np.sqrt(2 / in_features)\n",
        "        self.bias = np.zeros((1, out_features))\n",
        "\n",
        "        # сохраняем градиент для весов и смещений\n",
        "        self._grad_weight = None\n",
        "        self._grad_bias = None\n",
        "\n",
        "        # тут для обратного прохода сохраняем входные данные\n",
        "        self._x = None\n",
        "\n",
        "    def forward(self, x):\n",
        "        # тоже сохраняем вход для обратного прохода\n",
        "        self._x = x\n",
        "        return np.dot(x, self.weight) + self.bias\n",
        "\n",
        "    def backward(self, grad):\n",
        "        # вычисляем градиент для весов и смещений\n",
        "        self._grad_weight = np.dot(self._x.T, grad)\n",
        "        self._grad_bias = np.sum(grad, axis=0, keepdims=True)\n",
        "\n",
        "        return np.dot(grad, self.weight.T)\n",
        "\n",
        "    def step(self, learning_rate):\n",
        "        # обновляем веса и смещения\n",
        "        self.weight -= learning_rate * self._grad_weight\n",
        "        self.bias -= learning_rate * self._grad_bias"
      ]
    },
    {
      "cell_type": "markdown",
      "metadata": {
        "id": "z3wTLMxNlXNN"
      },
      "source": [
        "# Тестирование"
      ]
    },
    {
      "cell_type": "code",
      "execution_count": 783,
      "metadata": {
        "id": "jbn9SeOplXNN"
      },
      "outputs": [],
      "source": [
        "correct_forward_result = np.array([[0.01148086, 0.01477317, 0.00917651],\n",
        "                                   [0.00887036, 0.00972334, 0.00526646]])\n",
        "\n",
        "previous_grad = np.array([[0.01595814, 0.85148336, 0.9980065 ],\n",
        "                          [0.73044998, 0.18287682, 0.41246361]])\n",
        "\n",
        "correct_backward_result = np.array([[0.01089683, 0.00842654, 0.00822628, 0.00729307],\n",
        "                                    [0.00958704, 0.00833055, 0.00209236, 0.00543544]])\n",
        "\n",
        "correct_grad_weight = np.array([[0.60719574, 0.92790321, 1.24830165],\n",
        "                                [0.08968325, 0.15020214, 0.19972094],\n",
        "                                [0.22889674, 0.71103859, 0.89213814],\n",
        "                                [0.14874632, 0.54024567, 0.67098608]])\n",
        "\n",
        "correct_grad_bias = np.array([0.74640812, 1.03436018, 1.41047011])"
      ]
    },
    {
      "cell_type": "code",
      "execution_count": 784,
      "metadata": {
        "id": "LRQh1Y1SlXNN"
      },
      "outputs": [],
      "source": [
        "linear = Linear(in_features=4, out_features=3)"
      ]
    },
    {
      "cell_type": "code",
      "execution_count": 785,
      "metadata": {
        "id": "AygL60trlXNN"
      },
      "outputs": [],
      "source": [
        "# так как внутри слоя мы объвяляем наши веса рандомно (домножая на 0.01), то давайте присвоим им для теста конкретные значения\n",
        "\n",
        "linear.weight = np.array([[0.00879391, 0.0075844 , 0.00430709],\n",
        "                          [0.00884834, 0.00921104, 0.00044317],\n",
        "                          [0.00011441, 0.00822498, 0.00122346],\n",
        "                          [0.00338301, 0.0001627 , 0.00711473]])\n",
        "\n",
        "linear.bias = np.array([0., 0., 0.])"
      ]
    },
    {
      "cell_type": "code",
      "execution_count": 786,
      "metadata": {
        "id": "OiZFV1R2lXNN"
      },
      "outputs": [],
      "source": [
        "forward = linear.forward(x)\n",
        "backward = linear.backward(previous_grad)"
      ]
    },
    {
      "cell_type": "code",
      "execution_count": 787,
      "metadata": {
        "id": "bl2g5lBdlXNN"
      },
      "outputs": [],
      "source": [
        "# значения должны быть близкими\n",
        "assert np.allclose(correct_forward_result, forward)"
      ]
    },
    {
      "cell_type": "code",
      "execution_count": 788,
      "metadata": {
        "id": "P12ic7CAlXNN"
      },
      "outputs": [],
      "source": [
        "# значения должны быть близкими\n",
        "assert np.allclose(correct_backward_result, backward)"
      ]
    },
    {
      "cell_type": "code",
      "execution_count": 789,
      "metadata": {
        "id": "tlRMj-s3lXNO"
      },
      "outputs": [],
      "source": [
        "# значения должны быть близкими\n",
        "assert np.allclose(linear._grad_weight, correct_grad_weight)"
      ]
    },
    {
      "cell_type": "code",
      "execution_count": 790,
      "metadata": {
        "id": "pZwbaTTSlXNO"
      },
      "outputs": [],
      "source": [
        "# значения должны быть близкими\n",
        "assert np.allclose(linear._grad_bias, correct_grad_bias)"
      ]
    },
    {
      "cell_type": "code",
      "execution_count": 791,
      "metadata": {
        "colab": {
          "base_uri": "https://localhost:8080/"
        },
        "id": "s-en6yC8kk8P",
        "outputId": "c54de2d4-6607-4d4d-dbb4-acca895a197c"
      },
      "outputs": [
        {
          "data": {
            "text/plain": [
              "array([[0.60719574, 0.92790321, 1.24830165],\n",
              "       [0.08968325, 0.15020214, 0.19972094],\n",
              "       [0.22889674, 0.71103859, 0.89213814],\n",
              "       [0.14874632, 0.54024567, 0.67098608]])"
            ]
          },
          "execution_count": 791,
          "metadata": {},
          "output_type": "execute_result"
        }
      ],
      "source": [
        "linear._grad_weight"
      ]
    },
    {
      "cell_type": "code",
      "execution_count": 792,
      "metadata": {
        "colab": {
          "base_uri": "https://localhost:8080/"
        },
        "id": "UoicM41Akla9",
        "outputId": "d9e0900e-87a2-4c9f-fed3-1738b8efb60a"
      },
      "outputs": [
        {
          "data": {
            "text/plain": [
              "array([0.74640812, 1.03436018, 1.41047011])"
            ]
          },
          "execution_count": 792,
          "metadata": {},
          "output_type": "execute_result"
        }
      ],
      "source": [
        "correct_grad_bias"
      ]
    },
    {
      "cell_type": "markdown",
      "metadata": {
        "id": "NTVsM2OZlXNO"
      },
      "source": [
        "# ReLU"
      ]
    },
    {
      "cell_type": "code",
      "execution_count": 793,
      "metadata": {
        "id": "GBOEJl0MlXNO"
      },
      "outputs": [],
      "source": [
        "class ReLU:\n",
        "    def __init__(self):\n",
        "        # храним входные данные для обратного прохода\n",
        "        self._x = None\n",
        "\n",
        "    def forward(self, x):\n",
        "        # храним вход и применяем функцию активации (ReLU)\n",
        "        self._x = x\n",
        "        return np.maximum(0, x)\n",
        "\n",
        "    def backward(self, prev_grad):\n",
        "        # считаем градиент лосса\n",
        "        return prev_grad * (self._x > 0)\n",
        "\n",
        "    def step(self, learning_rate):\n",
        "        pass"
      ]
    },
    {
      "cell_type": "markdown",
      "metadata": {
        "id": "q5OO5j5glXNO"
      },
      "source": [
        "# Тестирование"
      ]
    },
    {
      "cell_type": "code",
      "execution_count": 794,
      "metadata": {
        "id": "AVCRa3EOlXNO"
      },
      "outputs": [],
      "source": [
        "x = np.array([[ 0.86811233, -0.23718669, -0.18401917, -0.37591633],\n",
        "              [-0.40626018,  0.37746975, -0.46929233,  0.79067681]])\n",
        "\n",
        "correct_forward_result = np.array([[0.86811233, 0.        , 0.        , 0.        ],\n",
        "                                   [0.        , 0.37746975, 0.        , 0.79067681]])\n",
        "\n",
        "previous_grad = np.array([[0.22436157, 0.61897707, 0.67895832, 0.72428618],\n",
        "                          [0.71231319, 0.87345215, 0.91129578, 0.90625846]])\n",
        "\n",
        "correct_backward_result = np.array([[0.22436157, 0.        , 0.        , 0.        ],\n",
        "                                    [0.        , 0.87345215, 0.        , 0.90625846]])"
      ]
    },
    {
      "cell_type": "code",
      "execution_count": 795,
      "metadata": {
        "id": "RwrzuWNClXNO"
      },
      "outputs": [],
      "source": [
        "relu = ReLU()"
      ]
    },
    {
      "cell_type": "code",
      "execution_count": 796,
      "metadata": {
        "id": "_fc6rFVglXNO"
      },
      "outputs": [],
      "source": [
        "forward = relu.forward(x)\n",
        "backward = relu.backward(previous_grad)"
      ]
    },
    {
      "cell_type": "code",
      "execution_count": 797,
      "metadata": {
        "id": "0nxb-xrulXNO"
      },
      "outputs": [],
      "source": [
        "# значения должны быть близкими\n",
        "assert np.allclose(correct_forward_result, forward)"
      ]
    },
    {
      "cell_type": "code",
      "execution_count": 798,
      "metadata": {
        "id": "fnIBkEM8lXNO"
      },
      "outputs": [],
      "source": [
        "# значения должны быть близкими\n",
        "assert np.allclose(correct_backward_result, backward)"
      ]
    },
    {
      "cell_type": "markdown",
      "metadata": {
        "id": "_rr7q5EvlXNO"
      },
      "source": [
        "# BCE test"
      ]
    },
    {
      "cell_type": "markdown",
      "metadata": {
        "id": "34raUmEblXNO"
      },
      "source": [
        "\n",
        "### Не забудьте добавить np.expand_dims(y, 1) в forward"
      ]
    },
    {
      "cell_type": "code",
      "execution_count": 799,
      "metadata": {
        "id": "4N4Wupl5lXNP"
      },
      "outputs": [],
      "source": [
        "class BCELoss:\n",
        "    def __init__(self):\n",
        "        # также храним данные\n",
        "        self._x = None\n",
        "        self._y = None\n",
        "\n",
        "    def forward(self, x, y):\n",
        "        self._y = np.expand_dims(y, 1)\n",
        "        self._x = x\n",
        "\n",
        "        # считаем BCE loss\n",
        "        eps = 1e-15\n",
        "        loss = -(self._y * np.log(self._x + eps) + (1 - self._y) * np.log(1 - self._x + eps))\n",
        "        return np.mean(loss)\n",
        "\n",
        "    def backward(self):\n",
        "        # считаем градиент лосса\n",
        "        eps = 1e-15\n",
        "        grad = -(self._y / (self._x + eps) - (1 - self._y) / (1 - self._x + eps))\n",
        "        return grad / len(self._x)\n",
        "\n",
        "    def step(self, learning_rate):\n",
        "        pass"
      ]
    },
    {
      "cell_type": "markdown",
      "metadata": {
        "id": "GqOjI0DRlXNP"
      },
      "source": [
        "# Тестирование"
      ]
    },
    {
      "cell_type": "code",
      "execution_count": 800,
      "metadata": {
        "id": "lVTXr1AolXNP"
      },
      "outputs": [],
      "source": [
        "x = np.array([[0.76242307],\n",
        "              [0.0908412 ],\n",
        "              [0.60176646],\n",
        "              [0.09606798]])\n",
        "\n",
        "y = np.array([1, 0, 1, 0])\n",
        "\n",
        "correct_forward_result = 0.24384403491500606\n",
        "\n",
        "correct_backward_result = np.array([[-0.32790194],\n",
        "                                    [ 0.27497946],\n",
        "                                    [-0.41544356],\n",
        "                                    [ 0.27656947]])"
      ]
    },
    {
      "cell_type": "code",
      "execution_count": 801,
      "metadata": {
        "id": "9FPDAunDlXNP"
      },
      "outputs": [],
      "source": [
        "loss = BCELoss()"
      ]
    },
    {
      "cell_type": "code",
      "execution_count": 802,
      "metadata": {
        "id": "_nf754eylXNP"
      },
      "outputs": [],
      "source": [
        "forward = loss.forward(x, y)\n",
        "backward = loss.backward()"
      ]
    },
    {
      "cell_type": "code",
      "execution_count": 803,
      "metadata": {
        "id": "tTUtWoENlXNP"
      },
      "outputs": [],
      "source": [
        "# значения должны быть близкими\n",
        "assert np.allclose(correct_forward_result, forward)"
      ]
    },
    {
      "cell_type": "code",
      "execution_count": 804,
      "metadata": {
        "id": "wHakIYN3lXNP"
      },
      "outputs": [],
      "source": [
        "# значения должны быть близкими\n",
        "assert np.allclose(correct_backward_result, backward)"
      ]
    },
    {
      "cell_type": "markdown",
      "metadata": {
        "id": "fncZ-lPwlXNP"
      },
      "source": [
        "## Реализуйте обертку над слоями - нейронную сеть\n",
        "- TIP 1: modules - это список слоев, которые вы сделали выше. Порядок важен\n",
        "- TIP 2: обновление весов можно сделать циклом\n",
        "- TIP 3: forward идет в одну сторону по слоям, а backward в другую\n",
        "- TIP 4: В backward функции потерь мы не передаем предыдущий градиент, потому что это начало backward, то есть последний слой нашей сети\n",
        "- TIP 5: forward и backward ничего не должны отдавать, в них должны быть расчитаны градиенты для каждого слоя\n",
        "- TIP 6: в step нужно пройтись по всем слоям и обновить веса"
      ]
    },
    {
      "cell_type": "code",
      "execution_count": 805,
      "metadata": {
        "id": "FH9WnX-olXNP"
      },
      "outputs": [],
      "source": [
        "class NeuralNetwork:\n",
        "    def __init__(self, modules):\n",
        "        # список слоев\n",
        "        self.modules = modules\n",
        "\n",
        "    def forward(self, x):\n",
        "        for mod in self.modules:\n",
        "            x = mod.forward(x)\n",
        "        return x\n",
        "\n",
        "    def backward(self, grad):\n",
        "        \"\"\"\n",
        "        :grad: градиент от функции потерь\n",
        "        :return: возвращать ничего не потребуется\n",
        "        \"\"\"\n",
        "        for mod in reversed(self.modules):\n",
        "            grad = mod.backward(grad)\n",
        "\n",
        "    def step(self, learning_rate):\n",
        "        for mod in self.modules:\n",
        "            mod.step(learning_rate)"
      ]
    },
    {
      "cell_type": "markdown",
      "metadata": {
        "id": "pNOOysjilXNP"
      },
      "source": [
        "## Реализуйте обертку над моделью"
      ]
    },
    {
      "cell_type": "code",
      "execution_count": 806,
      "metadata": {
        "id": "F--7gO0YlXNP"
      },
      "outputs": [],
      "source": [
        "class MNISTWrapper(wrapper.Wrapper):\n",
        "    def train_batch(self, x, y):\n",
        "        \"\"\"\n",
        "        Нужно реализовать одну итерацию обучения модели:\n",
        "        1. Рассчет forward\n",
        "        2. Рассчет функции потерь\n",
        "        3. Рассчет backward от функции потерь\n",
        "        4. Рассчет backward по модели, передавая туда значение градиента по функции потерь\n",
        "        5. Обновление весов с помощью step\n",
        "        :param x: входные данные np.array with shape (batch_size, n_features)\n",
        "        :param y: предсказания np.array with shape (batch_size, n_classes)\n",
        "        :return:\n",
        "        loss_batch - значение функции потерь, просто скаляр\n",
        "        prediction - матрица предсказаний вашей модели\n",
        "\n",
        "        напомню важные штуки, которые знает наш класс:\n",
        "        self.model\n",
        "        self.loss\n",
        "        self.learning_rate\n",
        "        \"\"\"\n",
        "        # КОД ЗДЕСЬ\n",
        "        # forward\n",
        "        pred = self.model.forward(x)\n",
        "\n",
        "        # loss\n",
        "        loss_batch = self.loss.forward(pred, y)\n",
        "\n",
        "        # backward от loss\n",
        "        # grad = self.loss.backward(pred, y)  \n",
        "        grad = self.loss.backward()  \n",
        "\n",
        "        # backward model\n",
        "        self.model.backward(grad)\n",
        "\n",
        "        # обновление весов\n",
        "        self.model.step(self.learning_rate)\n",
        "\n",
        "        return loss_batch, pred\n",
        "    \n",
        "    def predict_batch(self, x):\n",
        "        \"\"\"\n",
        "        Предсказание (aka inference) вашей модели:\n",
        "        1. Рассчет forward\n",
        "        :param x: входные данные np.array with shape (batch_size, n_features)\n",
        "        :return: prediction - матрица предсказаний вашей модели\n",
        "        \"\"\"\n",
        "        return self.model.forward(x)\n"
      ]
    },
    {
      "cell_type": "code",
      "execution_count": 807,
      "metadata": {
        "id": "74-2c59YlXNP"
      },
      "outputs": [],
      "source": [
        "# задайте гиперпараметры\n",
        "learning_rate = 0.01\n",
        "epochs = 10\n",
        "\n",
        "# задайте слои в свою нейронную сеть, например, 3 слоя\n",
        "neural_network = NeuralNetwork([Linear(in_features=784,\n",
        "                                              out_features=128),\n",
        "                                       ReLU(),\n",
        "                                       Linear(in_features=128,\n",
        "                                              out_features=10)])\n",
        "\n",
        "loss = BCELoss()"
      ]
    },
    {
      "cell_type": "code",
      "execution_count": 808,
      "metadata": {
        "colab": {
          "base_uri": "https://localhost:8080/",
          "height": 176
        },
        "id": "Um-OsaE8lXNQ",
        "outputId": "a57ef851-d4c9-4388-a0d3-3b9cebb3fb47"
      },
      "outputs": [],
      "source": [
        "classifier = MNISTWrapper(model=neural_network,\n",
        "                          loss=loss,\n",
        "                          learning_rate=learning_rate)"
      ]
    },
    {
      "cell_type": "markdown",
      "metadata": {
        "id": "-ohLUOS-lXNQ"
      },
      "source": [
        "## Обучение модели"
      ]
    },
    {
      "cell_type": "markdown",
      "metadata": {},
      "source": [
        "Почему то вылезает ошибка на трейне, с которой не могу разобраться, хотя тесты все проходит"
      ]
    },
    {
      "cell_type": "code",
      "execution_count": 809,
      "metadata": {
        "id": "NDRPY8idlXNQ"
      },
      "outputs": [
        {
          "name": "stderr",
          "output_type": "stream",
          "text": [
            "Epoch 1:   0%|          | 0/97 [00:00<?, ?it/s]/var/folders/7n/rydsv3td2bb5j7n_24qcf5qc0000gn/T/ipykernel_70838/4003877387.py:13: RuntimeWarning: invalid value encountered in log\n",
            "  loss = -(self._y * np.log(self._x + eps) + (1 - self._y) * np.log(1 - self._x + eps))\n"
          ]
        },
        {
          "ename": "ValueError",
          "evalue": "Classification metrics can't handle a mix of binary and multilabel-indicator targets",
          "output_type": "error",
          "traceback": [
            "\u001b[0;31m---------------------------------------------------------------------------\u001b[0m",
            "\u001b[0;31mValueError\u001b[0m                                Traceback (most recent call last)",
            "Cell \u001b[0;32mIn[809], line 1\u001b[0m\n\u001b[0;32m----> 1\u001b[0m \u001b[43mclassifier\u001b[49m\u001b[38;5;241;43m.\u001b[39;49m\u001b[43mtrain\u001b[49m\u001b[43m(\u001b[49m\u001b[43mtrain_loader\u001b[49m\u001b[43m,\u001b[49m\u001b[43m \u001b[49m\u001b[43mtest_loader\u001b[49m\u001b[43m,\u001b[49m\u001b[43m \u001b[49m\u001b[43mepochs\u001b[49m\u001b[38;5;241;43m=\u001b[39;49m\u001b[43mepochs\u001b[49m\u001b[43m)\u001b[49m\n",
            "File \u001b[0;32m~/Desktop/DL_HSE/DL_HSE_FIRST_HW/our_library/wrapper.py:63\u001b[0m, in \u001b[0;36mWrapper.train\u001b[0;34m(self, train_loader, test_loader, epochs)\u001b[0m\n\u001b[1;32m     60\u001b[0m \u001b[38;5;28mself\u001b[39m\u001b[38;5;241m.\u001b[39mlosses\u001b[38;5;241m.\u001b[39mappend(loss_batch)\n\u001b[1;32m     61\u001b[0m epoch_losses\u001b[38;5;241m.\u001b[39mappend(loss_batch)\n\u001b[0;32m---> 63\u001b[0m batch_metric \u001b[38;5;241m=\u001b[39m \u001b[38;5;28;43mself\u001b[39;49m\u001b[38;5;241;43m.\u001b[39;49m\u001b[43mmetric_function\u001b[49m\u001b[43m(\u001b[49m\u001b[43my\u001b[49m\u001b[43m,\u001b[49m\u001b[43m \u001b[49m\u001b[43mprediction\u001b[49m\u001b[43m)\u001b[49m\n\u001b[1;32m     65\u001b[0m \u001b[38;5;28mself\u001b[39m\u001b[38;5;241m.\u001b[39mmetric\u001b[38;5;241m.\u001b[39mappend(batch_metric)\n\u001b[1;32m     66\u001b[0m epoch_metric\u001b[38;5;241m.\u001b[39mappend(batch_metric)\n",
            "File \u001b[0;32m~/Desktop/DL_HSE/DL_HSE_FIRST_HW/our_library/tools.py:13\u001b[0m, in \u001b[0;36mbinary_accuracy\u001b[0;34m(y, prediction, threshold)\u001b[0m\n\u001b[1;32m     10\u001b[0m prediction[prediction \u001b[38;5;241m<\u001b[39m threshold] \u001b[38;5;241m=\u001b[39m \u001b[38;5;241m0\u001b[39m\n\u001b[1;32m     11\u001b[0m prediction\u001b[38;5;241m.\u001b[39msqueeze()\n\u001b[0;32m---> 13\u001b[0m metric \u001b[38;5;241m=\u001b[39m \u001b[43maccuracy_score\u001b[49m\u001b[43m(\u001b[49m\u001b[43my\u001b[49m\u001b[43m,\u001b[49m\u001b[43m \u001b[49m\u001b[43mprediction\u001b[49m\u001b[43m)\u001b[49m\n\u001b[1;32m     15\u001b[0m \u001b[38;5;28;01mreturn\u001b[39;00m metric\n",
            "File \u001b[0;32m~/Desktop/DL_HSE/.venv/lib/python3.9/site-packages/sklearn/utils/_param_validation.py:213\u001b[0m, in \u001b[0;36mvalidate_params.<locals>.decorator.<locals>.wrapper\u001b[0;34m(*args, **kwargs)\u001b[0m\n\u001b[1;32m    207\u001b[0m \u001b[38;5;28;01mtry\u001b[39;00m:\n\u001b[1;32m    208\u001b[0m     \u001b[38;5;28;01mwith\u001b[39;00m config_context(\n\u001b[1;32m    209\u001b[0m         skip_parameter_validation\u001b[38;5;241m=\u001b[39m(\n\u001b[1;32m    210\u001b[0m             prefer_skip_nested_validation \u001b[38;5;129;01mor\u001b[39;00m global_skip_validation\n\u001b[1;32m    211\u001b[0m         )\n\u001b[1;32m    212\u001b[0m     ):\n\u001b[0;32m--> 213\u001b[0m         \u001b[38;5;28;01mreturn\u001b[39;00m \u001b[43mfunc\u001b[49m\u001b[43m(\u001b[49m\u001b[38;5;241;43m*\u001b[39;49m\u001b[43margs\u001b[49m\u001b[43m,\u001b[49m\u001b[43m \u001b[49m\u001b[38;5;241;43m*\u001b[39;49m\u001b[38;5;241;43m*\u001b[39;49m\u001b[43mkwargs\u001b[49m\u001b[43m)\u001b[49m\n\u001b[1;32m    214\u001b[0m \u001b[38;5;28;01mexcept\u001b[39;00m InvalidParameterError \u001b[38;5;28;01mas\u001b[39;00m e:\n\u001b[1;32m    215\u001b[0m     \u001b[38;5;66;03m# When the function is just a wrapper around an estimator, we allow\u001b[39;00m\n\u001b[1;32m    216\u001b[0m     \u001b[38;5;66;03m# the function to delegate validation to the estimator, but we replace\u001b[39;00m\n\u001b[1;32m    217\u001b[0m     \u001b[38;5;66;03m# the name of the estimator by the name of the function in the error\u001b[39;00m\n\u001b[1;32m    218\u001b[0m     \u001b[38;5;66;03m# message to avoid confusion.\u001b[39;00m\n\u001b[1;32m    219\u001b[0m     msg \u001b[38;5;241m=\u001b[39m re\u001b[38;5;241m.\u001b[39msub(\n\u001b[1;32m    220\u001b[0m         \u001b[38;5;124mr\u001b[39m\u001b[38;5;124m\"\u001b[39m\u001b[38;5;124mparameter of \u001b[39m\u001b[38;5;124m\\\u001b[39m\u001b[38;5;124mw+ must be\u001b[39m\u001b[38;5;124m\"\u001b[39m,\n\u001b[1;32m    221\u001b[0m         \u001b[38;5;124mf\u001b[39m\u001b[38;5;124m\"\u001b[39m\u001b[38;5;124mparameter of \u001b[39m\u001b[38;5;132;01m{\u001b[39;00mfunc\u001b[38;5;241m.\u001b[39m\u001b[38;5;18m__qualname__\u001b[39m\u001b[38;5;132;01m}\u001b[39;00m\u001b[38;5;124m must be\u001b[39m\u001b[38;5;124m\"\u001b[39m,\n\u001b[1;32m    222\u001b[0m         \u001b[38;5;28mstr\u001b[39m(e),\n\u001b[1;32m    223\u001b[0m     )\n",
            "File \u001b[0;32m~/Desktop/DL_HSE/.venv/lib/python3.9/site-packages/sklearn/metrics/_classification.py:231\u001b[0m, in \u001b[0;36maccuracy_score\u001b[0;34m(y_true, y_pred, normalize, sample_weight)\u001b[0m\n\u001b[1;32m    229\u001b[0m xp, _, device \u001b[38;5;241m=\u001b[39m get_namespace_and_device(y_true, y_pred, sample_weight)\n\u001b[1;32m    230\u001b[0m \u001b[38;5;66;03m# Compute accuracy for each possible representation\u001b[39;00m\n\u001b[0;32m--> 231\u001b[0m y_type, y_true, y_pred \u001b[38;5;241m=\u001b[39m \u001b[43m_check_targets\u001b[49m\u001b[43m(\u001b[49m\u001b[43my_true\u001b[49m\u001b[43m,\u001b[49m\u001b[43m \u001b[49m\u001b[43my_pred\u001b[49m\u001b[43m)\u001b[49m\n\u001b[1;32m    232\u001b[0m check_consistent_length(y_true, y_pred, sample_weight)\n\u001b[1;32m    233\u001b[0m \u001b[38;5;28;01mif\u001b[39;00m y_type\u001b[38;5;241m.\u001b[39mstartswith(\u001b[38;5;124m\"\u001b[39m\u001b[38;5;124mmultilabel\u001b[39m\u001b[38;5;124m\"\u001b[39m):\n",
            "File \u001b[0;32m~/Desktop/DL_HSE/.venv/lib/python3.9/site-packages/sklearn/metrics/_classification.py:112\u001b[0m, in \u001b[0;36m_check_targets\u001b[0;34m(y_true, y_pred)\u001b[0m\n\u001b[1;32m    109\u001b[0m     y_type \u001b[38;5;241m=\u001b[39m {\u001b[38;5;124m\"\u001b[39m\u001b[38;5;124mmulticlass\u001b[39m\u001b[38;5;124m\"\u001b[39m}\n\u001b[1;32m    111\u001b[0m \u001b[38;5;28;01mif\u001b[39;00m \u001b[38;5;28mlen\u001b[39m(y_type) \u001b[38;5;241m>\u001b[39m \u001b[38;5;241m1\u001b[39m:\n\u001b[0;32m--> 112\u001b[0m     \u001b[38;5;28;01mraise\u001b[39;00m \u001b[38;5;167;01mValueError\u001b[39;00m(\n\u001b[1;32m    113\u001b[0m         \u001b[38;5;124m\"\u001b[39m\u001b[38;5;124mClassification metrics can\u001b[39m\u001b[38;5;124m'\u001b[39m\u001b[38;5;124mt handle a mix of \u001b[39m\u001b[38;5;132;01m{0}\u001b[39;00m\u001b[38;5;124m and \u001b[39m\u001b[38;5;132;01m{1}\u001b[39;00m\u001b[38;5;124m targets\u001b[39m\u001b[38;5;124m\"\u001b[39m\u001b[38;5;241m.\u001b[39mformat(\n\u001b[1;32m    114\u001b[0m             type_true, type_pred\n\u001b[1;32m    115\u001b[0m         )\n\u001b[1;32m    116\u001b[0m     )\n\u001b[1;32m    118\u001b[0m \u001b[38;5;66;03m# We can't have more than one value on y_type => The set is no more needed\u001b[39;00m\n\u001b[1;32m    119\u001b[0m y_type \u001b[38;5;241m=\u001b[39m y_type\u001b[38;5;241m.\u001b[39mpop()\n",
            "\u001b[0;31mValueError\u001b[0m: Classification metrics can't handle a mix of binary and multilabel-indicator targets"
          ]
        }
      ],
      "source": [
        "classifier.train(train_loader, test_loader, epochs=epochs)\n"
      ]
    },
    {
      "cell_type": "code",
      "execution_count": 348,
      "metadata": {
        "colab": {
          "base_uri": "https://localhost:8080/",
          "height": 816
        },
        "id": "pseJ8m_XlXNQ",
        "outputId": "007875d1-08f7-4f4d-c6b7-9004637b7d13"
      },
      "outputs": [
        {
          "data": {
            "image/png": "[encoded data removed]",
            "text/plain": [
              "<Figure size 1600x1200 with 2 Axes>"
            ]
          },
          "metadata": {},
          "output_type": "display_data"
        }
      ],
      "source": [
        "classifier.plot()"
      ]
    },
    {
      "cell_type": "code",
      "execution_count": null,
      "metadata": {},
      "outputs": [],
      "source": []
    }
  ],
  "metadata": {
    "colab": {
      "provenance": []
    },
    "kernelspec": {
      "display_name": "Python 3",
      "language": "python",
      "name": "python3"
    },
    "language_info": {
      "codemirror_mode": {
        "name": "ipython",
        "version": 3
      },
      "file_extension": ".py",
      "mimetype": "text/x-python",
      "name": "python",
      "nbconvert_exporter": "python",
      "pygments_lexer": "ipython3",
      "version": "3.9.6"
    }
  },
  "nbformat": 4,
  "nbformat_minor": 0
}
